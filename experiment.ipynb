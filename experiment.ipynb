{
 "cells": [
  {
   "cell_type": "code",
   "execution_count": 143,
   "metadata": {},
   "outputs": [],
   "source": [
    "import torch\n",
    "from transformers import AutoTokenizer, AutoModelForTokenClassification\n",
    "from transformers import pipeline\n",
    "import os\n",
    "import google.generativeai as genai\n",
    "import textwrap\n",
    "from IPython.display import display\n",
    "from IPython.display import Markdown"
   ]
  },
  {
   "cell_type": "code",
   "execution_count": 144,
   "metadata": {},
   "outputs": [],
   "source": [
    "GOOGLE_API_KEY=\"\"\n",
    "\n",
    "genai.configure(api_key=GOOGLE_API_KEY)"
   ]
  },
  {
   "cell_type": "code",
   "execution_count": 145,
   "metadata": {},
   "outputs": [],
   "source": [
    "model = genai.GenerativeModel('gemini-pro')"
   ]
  },
  {
   "cell_type": "code",
   "execution_count": 146,
   "metadata": {},
   "outputs": [
    {
     "name": "stderr",
     "output_type": "stream",
     "text": [
      "Some weights of the model checkpoint at dslim/bert-base-NER were not used when initializing BertForTokenClassification: ['bert.pooler.dense.bias', 'bert.pooler.dense.weight']\n",
      "- This IS expected if you are initializing BertForTokenClassification from the checkpoint of a model trained on another task or with another architecture (e.g. initializing a BertForSequenceClassification model from a BertForPreTraining model).\n",
      "- This IS NOT expected if you are initializing BertForTokenClassification from the checkpoint of a model that you expect to be exactly identical (initializing a BertForSequenceClassification model from a BertForSequenceClassification model).\n"
     ]
    }
   ],
   "source": [
    "tokenizer = AutoTokenizer.from_pretrained(\"dslim/bert-base-NER\")\n",
    "model2 = AutoModelForTokenClassification.from_pretrained(\"dslim/bert-base-NER\")\n",
    "\n",
    "nlp = pipeline(\"ner\", model=model2, tokenizer=tokenizer,grouped_entities=True)"
   ]
  },
  {
   "cell_type": "code",
   "execution_count": 147,
   "metadata": {},
   "outputs": [],
   "source": [
    "def to_markdown(text):\n",
    "  text = text.replace('•', '  *')\n",
    "  return Markdown(textwrap.indent(text, '> ', predicate=lambda _: True))"
   ]
  },
  {
   "cell_type": "code",
   "execution_count": null,
   "metadata": {},
   "outputs": [],
   "source": [
    "def connect_to_postgres():\n",
    "    with open('database.yaml', 'r') as yaml_file:\n",
    "        db_config = yaml.safe_load(yaml_file)\n",
    "    try:\n",
    "        connection = psycopg2.connect(\n",
    "            user=db_config['database']['user'],\n",
    "            password=db_config['database']['password'],\n",
    "            host=db_config['database']['host'],\n",
    "            port=db_config['database']['port'],\n",
    "            database=db_config['database']['name']\n",
    "        )\n",
    "        print(\"Connection to PostgreSQL database successful\")\n",
    "        return connection\n",
    "    except Error as e:\n",
    "        print(f\"Error while connecting to PostgreSQL: {e}\")"
   ]
  },
  {
   "cell_type": "code",
   "execution_count": 148,
   "metadata": {},
   "outputs": [],
   "source": [
    "response = model.generate_content(\"List competitors of Bajaj Auto\")"
   ]
  },
  {
   "cell_type": "code",
   "execution_count": 149,
   "metadata": {},
   "outputs": [
    {
     "data": {
      "text/markdown": [
       "> * **Hero MotoCorp**\n",
       "> * **Honda Motorcycle & Scooter India**\n",
       "> * **TVS Motor Company**\n",
       "> * **Yamaha Motor India**\n",
       "> * **Suzuki Motorcycle India**\n",
       "> * **Royal Enfield**\n",
       "> * **KTM**\n",
       "> * **BMW Motorrad**\n",
       "> * **Harley-Davidson**\n",
       "> * **Triumph Motorcycles**\n",
       "> * **Kawasaki**\n",
       "> * **Hyosung**\n",
       "> * **Benelli**\n",
       "> * **Keeway**"
      ],
      "text/plain": [
       "<IPython.core.display.Markdown object>"
      ]
     },
     "execution_count": 149,
     "metadata": {},
     "output_type": "execute_result"
    }
   ],
   "source": [
    "to_markdown(response.text)"
   ]
  },
  {
   "cell_type": "code",
   "execution_count": 150,
   "metadata": {},
   "outputs": [],
   "source": [
    "competitors=[]\n",
    "\n",
    "for i in nlp(response.text):\n",
    "    competitors.append(i[\"word\"])"
   ]
  },
  {
   "cell_type": "code",
   "execution_count": 151,
   "metadata": {},
   "outputs": [],
   "source": [
    "for i in competitors:\n",
    "    if(i[0]=='#'):\n",
    "        i = re.sub('^#+', '', i)\n",
    "        temp=competitors[-1]\n",
    "        del competitors[-1]\n",
    "        temp+=i\n",
    "        if temp not in competitors:\n",
    "            competitors.append(temp)\n",
    "        continue\n",
    "        \n",
    "    if i not in competitors:\n",
    "        competitors.append(i)"
   ]
  },
  {
   "cell_type": "code",
   "execution_count": 152,
   "metadata": {},
   "outputs": [
    {
     "data": {
      "text/plain": [
       "['Hero MotoCorp',\n",
       " 'Honda Motorcycle & Scooter India',\n",
       " 'TVS Motor Company',\n",
       " 'Yamaha Motor India',\n",
       " 'Suzuki Motorcycle India',\n",
       " 'Royal Enfield',\n",
       " 'KTM',\n",
       " 'BMW Motorrad',\n",
       " 'Harley',\n",
       " 'Davidson',\n",
       " 'Triumph Motorcycles',\n",
       " 'Kawasaki',\n",
       " 'Ben']"
      ]
     },
     "execution_count": 152,
     "metadata": {},
     "output_type": "execute_result"
    }
   ],
   "source": [
    "competitors"
   ]
  },
  {
   "cell_type": "code",
   "execution_count": 153,
   "metadata": {},
   "outputs": [
    {
     "data": {
      "text/markdown": [
       "> **Bajaj Auto vs. Hero MotoCorp**\n",
       "> \n",
       "> **Overview**\n",
       "> \n",
       "> * **Bajaj Auto:** Indian multinational automotive manufacturing company based in Pune. Known for its affordable motorcycles and three-wheelers.\n",
       "> * **Hero MotoCorp:** Indian multinational motorcycle manufacturer based in Gurgaon. World's largest two-wheeler manufacturer by volume.\n",
       "> \n",
       "> **Market Position**\n",
       "> \n",
       "> * **Dominance:** Hero MotoCorp is the dominant player in India's motorcycle market, with a market share of around 40%. Bajaj Auto has a smaller market share of approximately 12%.\n",
       "> * **Export Focus:** Bajaj Auto has a strong export focus, exporting motorcycles to over 70 countries. Hero MotoCorp has recently been expanding its export operations.\n",
       "> \n",
       "> **Product Portfolio**\n",
       "> \n",
       "> * **Major Products:** Both companies primarily focus on producing motorcycles.\n",
       "> * **Range:** Bajaj Auto offers a wider range of motorcycles, from entry-level models to high-performance bikes. Hero MotoCorp has a more focused portfolio, with a strong presence in the commuter and economy segments.\n",
       "> * **Innovation:** Bajaj Auto is known for its innovative designs and technologies, such as its patented DTS-i engine. Hero MotoCorp emphasizes reliability and fuel efficiency in its products.\n",
       "> \n",
       "> **Financial Performance**\n",
       "> \n",
       "> * **Revenue:** Hero MotoCorp consistently generates higher revenue than Bajaj Auto due to its larger market share.\n",
       "> * **Profitability:** Bajaj Auto has typically maintained higher profit margins than Hero MotoCorp, reflecting its focus on higher-margin products and export markets.\n",
       "> * **Growth:** Both companies have experienced steady growth in recent years, with Hero MotoCorp leading the pack in terms of market share.\n",
       "> \n",
       "> **Strengths and Weaknesses**\n",
       "> \n",
       "> **Bajaj Auto:**\n",
       "> \n",
       "> * **Strengths:** Export focus, innovative designs, higher profit margins.\n",
       "> * **Weaknesses:** Relatively smaller market share in India.\n",
       "> \n",
       "> **Hero MotoCorp:**\n",
       "> \n",
       "> * **Strengths:** Dominant market position in India, strong brand recognition, focus on fuel efficiency.\n",
       "> * **Weaknesses:** Dependence on domestic market, limited product diversification.\n",
       "> \n",
       "> **Competitive Landscape**\n",
       "> \n",
       "> The Indian two-wheeler market is highly competitive, with several other players such as Honda Motorcycles and Scooters India (HMSI) and TVS Motor Company. However, Bajaj Auto and Hero MotoCorp remain the two largest players, controlling over 50% of the market share.\n",
       "> \n",
       "> **Conclusion**\n",
       "> \n",
       "> Bajaj Auto and Hero MotoCorp are both leading players in the Indian two-wheeler industry. While Hero MotoCorp has a dominant market position, Bajaj Auto stands out with its export focus and innovative product portfolio. The competition between these two companies is expected to remain intense in the future, with both vying for market share and growth opportunities."
      ],
      "text/plain": [
       "<IPython.core.display.Markdown object>"
      ]
     },
     "execution_count": 153,
     "metadata": {},
     "output_type": "execute_result"
    }
   ],
   "source": [
    "i=competitors[0]\n",
    "\n",
    "response = model.generate_content(\"Give insights and compare Bajaj Auto and \"+i)\n",
    "\n",
    "to_markdown(response.text)"
   ]
  }
 ],
 "metadata": {
  "kernelspec": {
   "display_name": "made",
   "language": "python",
   "name": "python3"
  },
  "language_info": {
   "codemirror_mode": {
    "name": "ipython",
    "version": 3
   },
   "file_extension": ".py",
   "mimetype": "text/x-python",
   "name": "python",
   "nbconvert_exporter": "python",
   "pygments_lexer": "ipython3",
   "version": "3.9.18"
  }
 },
 "nbformat": 4,
 "nbformat_minor": 2
}
